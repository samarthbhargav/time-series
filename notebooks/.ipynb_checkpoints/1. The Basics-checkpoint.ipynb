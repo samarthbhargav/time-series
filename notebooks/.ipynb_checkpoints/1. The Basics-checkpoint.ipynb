{
 "cells": [
  {
   "cell_type": "markdown",
   "metadata": {},
   "source": [
    "# The Basics\n",
    "\n",
    "### Outline\n",
    "\n",
    "#### Part 1: About the Workship & Motivation\n",
    "TODO: Discuss what problem areas, couple of brief useful usecases. \n",
    "Mention D4G usecases - California water table, shameless plug about eGovs work\n",
    "AQI, temperature\n",
    "Economics\n",
    "\n",
    "\n",
    "Motivation for also why I'm doing this workshop:\n",
    "- Not married with traditional ML\n",
    "\n",
    "\n",
    "\n",
    "Mention resources (references) I used, with full list of references in the last\n",
    "\n",
    "\n",
    "#### Part 2: Exploring Time Series Data\n",
    "1. Working with time series data - lubridate, xts and ts\n",
    "2. Visualizing time series data\n",
    "    a. Simple plots\n",
    "    b. Plotting multiple series\n",
    "    c. Season plots\n",
    "3. Summary statistics \n",
    "    - The usual, mean, var, std, etc\n",
    "    - trend (using simple linear models)\n",
    "    - Moving averages (and why not simple linear models)\n",
    "    - seasonal averages \n",
    "4. Useful transformations with time series data\n",
    "   \n",
    "Loading Time Series Data"
   ]
  },
  {
   "cell_type": "code",
   "execution_count": 1,
   "metadata": {
    "collapsed": false
   },
   "outputs": [
    {
     "name": "stderr",
     "output_type": "stream",
     "text": [
      "\n",
      "Attaching package: ‘lubridate’\n",
      "\n",
      "The following object is masked from ‘package:base’:\n",
      "\n",
      "    date\n",
      "\n"
     ]
    }
   ],
   "source": [
    "library(lubridate)"
   ]
  },
  {
   "cell_type": "code",
   "execution_count": null,
   "metadata": {
    "collapsed": true
   },
   "outputs": [],
   "source": []
  }
 ],
 "metadata": {
  "kernelspec": {
   "display_name": "R",
   "language": "R",
   "name": "ir"
  },
  "language_info": {
   "codemirror_mode": "r",
   "file_extension": ".r",
   "mimetype": "text/x-r-source",
   "name": "R",
   "pygments_lexer": "r",
   "version": "3.3.2"
  }
 },
 "nbformat": 4,
 "nbformat_minor": 1
}
